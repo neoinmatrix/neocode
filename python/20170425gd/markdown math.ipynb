{
 "cells": [
  {
   "cell_type": "markdown",
   "metadata": {},
   "source": [
    "# <center>batch gradient descent</center> \n",
    "$$\n",
    "J(\\theta) = \\frac 1 {2m} \\sum_{i=1}^m (h_\\theta(x^{(i)})-y^{(i)})^2\n",
    "$$\n",
    "\n",
    "$$\n",
    "\\frac{\\partial{J(\\theta)}}{\\partial\\theta_j} = \\frac 1 m \\sum_{i=1}^m (h_\\theta(x^{(i)})-y^{(i)})　 x^i_{\\theta_j} \n",
    "= \\frac 1 m   \\{  \n",
    "[( x_{11} \\theta_1 + x_{12} \\theta_2 + ... + x_{1n} \\theta_n) -y_1 ] x_{1j} +  \\\\\n",
    "[( x_{21} \\theta_1 + x_{22} \\theta_2 + ... + x_{2n} \\theta_n) -y_2 ] x_{2j}  +  ...  \\\\\n",
    "[( x_{m1} \\theta_1 + x_{m2} \\theta_2 + ... + x_{mn} \\theta_n) -y_n ] x_{mj}  \\}\n",
    "$$\n",
    "\n",
    "$$\n",
    "\\theta_{j}^{'} = \\theta_j - \\frac{\\partial{J(\\theta)}}{\\partial\\theta_j}\n",
    "$$\n",
    "\n",
    "$$ \\textbf{update} \\, \\theta_j \\quad j=\\{1,2,...n\\} \\, at \\, the \\, \\textbf{same} \\, time $$ \n",
    "\n",
    "***"
   ]
  },
  {
   "cell_type": "markdown",
   "metadata": {},
   "source": [
    "# <center>stochastic gradient descent</center> \n",
    "$$\n",
    "J(\\theta) = \\frac 1 {m} \\sum_{i=1}^m  \\frac 1 2 (h_\\theta(x^{(i)})-y^{(i)})^2 =\n",
    "\\frac 1 {m} \\sum_{i=1}^m f(\\theta,(x_i,y_i))\n",
    "$$\n",
    "\n",
    "$$\n",
    "\\frac{\\partial{f(\\theta,(x_r,y_r))}}{\\partial\\theta_j} =  (h_\\theta(x^{(r)})-y^{(r)})　 x^r_{\\theta_j} \n",
    "\\quad ( choose \\, the \\, random \\, number \\, \\textbf r )\n",
    "$$\n",
    "\n",
    "$$\n",
    "\\theta_{j}^{'} = \\theta_j - \\frac{\\partial{f(\\theta,(x_r,y_r))}}{\\partial\\theta_j}\n",
    "$$\n",
    "\n",
    "$$ \\textbf{update} \\, \\theta_j \\quad j=\\{1,2,...n\\} \\, at \\, the \\, \\textbf{same} \\, time $$ "
   ]
  },
  {
   "cell_type": "code",
   "execution_count": null,
   "metadata": {
    "collapsed": true
   },
   "outputs": [],
   "source": []
  }
 ],
 "metadata": {
  "kernelspec": {
   "display_name": "Python 2",
   "language": "python",
   "name": "python2"
  },
  "language_info": {
   "codemirror_mode": {
    "name": "ipython",
    "version": 2
   },
   "file_extension": ".py",
   "mimetype": "text/x-python",
   "name": "python",
   "nbconvert_exporter": "python",
   "pygments_lexer": "ipython2",
   "version": "2.7.12"
  }
 },
 "nbformat": 4,
 "nbformat_minor": 2
}
