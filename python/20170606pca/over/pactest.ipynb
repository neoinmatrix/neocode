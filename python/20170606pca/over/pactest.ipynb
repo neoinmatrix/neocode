{
 "cells": [
  {
   "cell_type": "code",
   "execution_count": 19,
   "metadata": {
    "collapsed": false
   },
   "outputs": [
    {
     "name": "stdout",
     "output_type": "stream",
     "text": [
      "the single accuracy: 0.905\n",
      "the single accuracy: 0.875\n",
      "the single accuracy: 0.88\n",
      "the single accuracy: 0.89\n",
      "the single accuracy: 0.9\n",
      "the single accuracy: 0.89\n",
      "the single accuracy: 0.88\n",
      "the single accuracy: 0.89\n",
      "the single accuracy: 0.92\n",
      "the single accuracy: 0.895\n",
      "the  final accuracy:0.89\n",
      "the time using: 1.629945 s\n",
      "======== data without pca ================\n"
     ]
    }
   ],
   "source": [
    "# coding: utf-8\n",
    "import pandas as pd\n",
    "import numpy as np\n",
    "from sklearn import decomposition\n",
    "from sklearn.neural_network import MLPClassifier\n",
    "from sklearn import  metrics\n",
    "from sklearn.model_selection import KFold\n",
    "import time\n",
    "\n",
    "def recognizer(train):\n",
    "    kf = KFold(n_splits=10, shuffle=True,random_state=np.random.randint(11))\n",
    "    clf = MLPClassifier(solver='lbfgs', alpha=1e-5, hidden_layer_sizes=(50,), random_state=1)\n",
    "\n",
    "    accuracy=0.0\n",
    "    confusion=np.zeros([2,2])\n",
    "    start = time.clock()\n",
    "    for train_index, test_index in kf.split(train.index):\n",
    "        X=train.ix[train_index].values\n",
    "        y=label_train.ix[train_index].values\n",
    "        clf.fit(X,y)\n",
    "        X_test=train.ix[test_index].values\n",
    "        predicted = clf.predict(X_test)\n",
    "        expected =label_train.ix[test_index].values\n",
    "        accy_tmp=metrics.accuracy_score(expected, predicted)\n",
    "        accuracy+=accy_tmp\n",
    "        print \"the single accuracy:\",accy_tmp\n",
    "    # print confusion\n",
    "    print \"the  final accuracy:%.2f\"%(accuracy/10.0)\n",
    "    end = time.clock()\n",
    "    print \"the time using: %f s\" % (end - start)\n",
    "\n",
    "    \n",
    "if __name__ == '__main__':\n",
    "    train=pd.read_csv(\"mnist.csv\")\n",
    "    # normalize the train data\n",
    "    label_train=train['label']\n",
    "    train=train.drop('label', axis=1)\n",
    "    train = train / 255\n",
    "    # train.info()\n",
    "    # PCA decomposition\n",
    "    pca = decomposition.PCA(n_components=30)\n",
    "    pca.fit(train)\n",
    "    train_pca = pd.DataFrame(pca.transform(train))\n",
    "    # print train.info()\n",
    "    recognizer(train_pca)\n",
    "    print '======== data without pca ================'\n",
    "#     recognizer(train)"
   ]
  }
 ],
 "metadata": {
  "kernelspec": {
   "display_name": "Python 2",
   "language": "python",
   "name": "python2"
  },
  "language_info": {
   "codemirror_mode": {
    "name": "ipython",
    "version": 2
   },
   "file_extension": ".py",
   "mimetype": "text/x-python",
   "name": "python",
   "nbconvert_exporter": "python",
   "pygments_lexer": "ipython2",
   "version": "2.7.12"
  }
 },
 "nbformat": 4,
 "nbformat_minor": 1
}
