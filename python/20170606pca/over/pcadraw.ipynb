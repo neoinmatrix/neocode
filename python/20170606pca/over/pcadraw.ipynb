{
 "cells": [
  {
   "cell_type": "code",
   "execution_count": 52,
   "metadata": {
    "collapsed": false
   },
   "outputs": [
    {
     "data": {
      "image/png": "[encoded data removed]",
      "text/plain": [
       "<matplotlib.figure.Figure at 0xc4a6fd0>"
      ]
     },
     "metadata": {},
     "output_type": "display_data"
    }
   ],
   "source": [
    "import numpy as np \n",
    "import matplotlib.pyplot as plt\n",
    "\n",
    "def zeroMean(X):        \n",
    "    means=np.mean(X,axis=1)\n",
    "    X_mean=X\n",
    "    for i in range(len(X_mean)):\n",
    "        X_mean[i]=X_mean[i]-means[i]\n",
    "    return X_mean,means\n",
    "\n",
    "def percentage_n(lambdaVal,percentage):\n",
    "    sortArray=np.sort(lambdaVal) \n",
    "    sortArray=sortArray[-1::-1] \n",
    "    arraySum=sum(sortArray)\n",
    "    tmpSum=0\n",
    "    num=0\n",
    "    for i in sortArray:\n",
    "        tmpSum+=i\n",
    "        num+=1\n",
    "        if tmpSum>=arraySum*percentage:\n",
    "            return num\n",
    "\n",
    "def pca(X_raw,percentage=0.99):  \n",
    "    X,means=zeroMean(X_raw) \n",
    "    cov=np.dot(X,X.T)/len(X[0])\n",
    "    lambdaVal,P=np.linalg.eig(np.mat(cov))\n",
    "    k=percentage_n(lambdaVal,percentage)\n",
    "    sortlambadaVal=np.argsort(lambdaVal)   \n",
    "    k_lambadaIndex=sortlambadaVal[-1:-(k+1):-1]  \n",
    "    k_P=P[:,k_lambadaIndex] \n",
    "\n",
    "    Y=k_P.T*X_raw  \n",
    "#     print  Y\n",
    "    # newX=k_P*k_P.T*X_raw \n",
    "    # for i in range(len(newX)):\n",
    "    #     newX[i]+=means[i]\n",
    "    # print newX\n",
    "    # exit()\n",
    "    return Y,X_raw \n",
    "data=np.array([[-1,-1,0,2,0],[-2,0,0,1,1]],dtype=np.float)\n",
    "# print data\n",
    "Y,newX=pca(data,0.8)\n",
    "plt.scatter(data[0,:],data[1,:])\n",
    "plt.scatter(Y/(2**0.5),Y/(2**0.5),c='r',marker='x')\n",
    "plt.grid(True)\n",
    "plt.plot([-2.5,0.5,1,2.5], [-2.5,0.5,1,2.5], 'g-')\n",
    "plt.axis([-2.5,2.5,-2.5 ,2.5])\n",
    "plt.yticks([i for i in range(-3,4,1)])\n",
    "plt.xticks([i for i in range(-3,4,1)])\n",
    "plt.show()\n"
   ]
  }
 ],
 "metadata": {
  "kernelspec": {
   "display_name": "Python 2",
   "language": "python",
   "name": "python2"
  },
  "language_info": {
   "codemirror_mode": {
    "name": "ipython",
    "version": 2
   },
   "file_extension": ".py",
   "mimetype": "text/x-python",
   "name": "python",
   "nbconvert_exporter": "python",
   "pygments_lexer": "ipython2",
   "version": "2.7.12"
  }
 },
 "nbformat": 4,
 "nbformat_minor": 1
}
