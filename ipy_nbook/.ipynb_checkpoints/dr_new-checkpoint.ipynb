{
 "cells": [
  {
   "cell_type": "code",
   "execution_count": 1,
   "metadata": {
    "collapsed": false,
    "deletable": true,
    "editable": true
   },
   "outputs": [
    {
     "name": "stdout",
     "output_type": "stream",
     "text": [
      "[3 0 2 5 6 6 6 1 3 3 0 6 7 5 4 3 7 7 2 6 5 3 4 6 2 8 3 8 7 5 1 0 1 7 9 9 3\n",
      " 9 2 8 2 1 2 9 1 9 2 7 0 6 6 8 6 3 7 8 3 0 5 4 6 4 2 1 1 1 4 1 6 7 4 1 3 6\n",
      " 7 1 1 3 1 1 6 5 5 8 5 4 7 0 2 4 0 1 2 1 7 5 5 5]\n",
      "0.918367346939\n"
     ]
    }
   ],
   "source": [
    "# coding: utf-8\n",
    "import pandas as pd\n",
    "import numpy as np\n",
    "from sklearn import decomposition\n",
    "from sklearn.neural_network import MLPClassifier\n",
    "from sklearn import  metrics\n",
    "\n",
    "train=pd.read_csv(\"small_train.csv\")\n",
    "\n",
    "# normalize the train data\n",
    "label_train=train['label']\n",
    "train=train.drop('label', axis=1)\n",
    "train = train / 255\n",
    "train['label'] = label_train\n",
    "\n",
    "## PCA decomposition\n",
    "pca = decomposition.PCA(n_components=20)\n",
    "pca.fit(train.drop('label', axis=1))\n",
    "PCtrain = pd.DataFrame(pca.transform(train.drop('label', axis=1)))\n",
    "PCtrain['label'] = train['label']\n",
    "\n",
    "end=1900\n",
    "y = PCtrain['label'][0:end]\n",
    "X=PCtrain.drop('label', axis=1)[0:end]\n",
    "clf = MLPClassifier(solver='lbfgs', alpha=1e-5, hidden_layer_sizes=(50,), random_state=1)\n",
    "clf.fit(X, y)\n",
    "\n",
    "#accuracy and confusion matrix\n",
    "predicted = clf.predict(PCtrain.drop('label', axis=1)[end+1:2000])\n",
    "expected = PCtrain['label'][end+1:2000]\n",
    "print predicted\n",
    "# print expected\n",
    "\n",
    "# print(\"Classification report for classifier %s:\\n%s\\n\"\n",
    "#       % (clf, metrics.classification_report(expected, predicted)))\n",
    "# print(\"Confusion matrix:\\n%s\" % metrics.confusion_matrix(expected, predicted))\n",
    "# print metrics.accuracy_score(expected, predicted)\n"
   ]
  },
  {
   "cell_type": "code",
   "execution_count": 2,
   "metadata": {
    "collapsed": false,
    "deletable": true,
    "editable": true
   },
   "outputs": [
    {
     "name": "stdout",
     "output_type": "stream",
     "text": [
      "0.959183673469\n"
     ]
    }
   ],
   "source": [
    "from sklearn.neighbors import KNeighborsClassifier\n",
    "neigh = KNeighborsClassifier(n_neighbors=3)\n",
    "neigh.fit(X, y) \n",
    "predicted = neigh.predict(PCtrain.drop('label', axis=1)[end+1:2000])\n",
    "print metrics.accuracy_score(expected, predicted)"
   ]
  },
  {
   "cell_type": "code",
   "execution_count": 3,
   "metadata": {
    "collapsed": false,
    "deletable": true,
    "editable": true
   },
   "outputs": [
    {
     "name": "stdout",
     "output_type": "stream",
     "text": [
      "0.948979591837\n"
     ]
    }
   ],
   "source": [
    "from sklearn import svm\n",
    "clf = svm.SVC()\n",
    "clf.fit(X, y)\n",
    "predicted = clf.predict(PCtrain.drop('label', axis=1)[end+1:2000])\n",
    "print metrics.accuracy_score(expected, predicted)"
   ]
  },
  {
   "cell_type": "code",
   "execution_count": 8,
   "metadata": {
    "collapsed": false,
    "deletable": true,
    "editable": true
   },
   "outputs": [
    {
     "name": "stdout",
     "output_type": "stream",
     "text": [
      "    ImageId  Label\n",
      "0         1      3\n",
      "1         2      0\n",
      "2         3      2\n",
      "3         4      5\n",
      "4         5      6\n",
      "5         6      6\n",
      "6         7      6\n",
      "7         8      1\n",
      "8         9      3\n",
      "9        10      3\n",
      "10       11      0\n",
      "11       12      6\n",
      "12       13      7\n",
      "13       14      5\n",
      "14       15      4\n",
      "15       16      3\n",
      "16       17      7\n",
      "17       18      7\n",
      "18       19      2\n",
      "19       20      6\n",
      "20       21      3\n",
      "21       22      3\n",
      "22       23      4\n",
      "23       24      6\n",
      "24       25      2\n",
      "25       26      8\n",
      "26       27      5\n",
      "27       28      8\n",
      "28       29      7\n",
      "29       30      5\n",
      "..      ...    ...\n",
      "68       69      6\n",
      "69       70      7\n",
      "70       71      4\n",
      "71       72      1\n",
      "72       73      3\n",
      "73       74      6\n",
      "74       75      7\n",
      "75       76      1\n",
      "76       77      1\n",
      "77       78      8\n",
      "78       79      3\n",
      "79       80      1\n",
      "80       81      6\n",
      "81       82      5\n",
      "82       83      5\n",
      "83       84      8\n",
      "84       85      5\n",
      "85       86      4\n",
      "86       87      7\n",
      "87       88      0\n",
      "88       89      2\n",
      "89       90      4\n",
      "90       91      0\n",
      "91       92      1\n",
      "92       93      2\n",
      "93       94      1\n",
      "94       95      7\n",
      "95       96      5\n",
      "96       97      5\n",
      "97       98      5\n",
      "\n",
      "[98 rows x 2 columns]\n"
     ]
    }
   ],
   "source": [
    "# print predicted\n",
    "# print expected\n",
    "output = pd.DataFrame(predicted, columns =['Label'])\n",
    "output.reset_index(inplace=True)\n",
    "# print output\n",
    "output.rename(columns={'index': 'ImageId'}, inplace=True)\n",
    "output['ImageId']=output['ImageId']+1\n",
    "print output\n",
    "# output.to_csv('output.csv', index=False)\n"
   ]
  }
 ],
 "metadata": {
  "kernelspec": {
   "display_name": "Python 2",
   "language": "python",
   "name": "python2"
  },
  "language_info": {
   "codemirror_mode": {
    "name": "ipython",
    "version": 2
   },
   "file_extension": ".py",
   "mimetype": "text/x-python",
   "name": "python",
   "nbconvert_exporter": "python",
   "pygments_lexer": "ipython2",
   "version": "2.7.12"
  }
 },
 "nbformat": 4,
 "nbformat_minor": 1
}
