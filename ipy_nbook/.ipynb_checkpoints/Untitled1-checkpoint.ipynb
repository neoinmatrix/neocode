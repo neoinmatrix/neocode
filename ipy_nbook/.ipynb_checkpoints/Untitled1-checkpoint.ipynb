{
 "cells": [
  {
   "cell_type": "code",
   "execution_count": 1,
   "metadata": {
    "collapsed": false,
    "deletable": true,
    "editable": true
   },
   "outputs": [
    {
     "name": "stdout",
     "output_type": "stream",
     "text": [
      "[3 0 2 5 6 6 6 1 3 3 0 6 7 5 4 3 7 7 2 6 5 3 4 6 2 8 3 8 7 5 1 0 1 7 9 9 3\n",
      " 9 2 8 2 1 2 9 1 9 2 7 0 6 6 8 6 3 7 8 3 0 5 4 6 4 2 1 1 1 4 1 6 7 4 1 3 6\n",
      " 7 1 1 3 1 1 6 5 5 8 5 4 7 0 2 4 0 1 2 1 7 5 5 5]\n",
      "0.918367346939\n"
     ]
    }
   ],
   "source": [
    "# coding: utf-8\n",
    "import pandas as pd\n",
    "import numpy as np\n",
    "from sklearn import decomposition\n",
    "from sklearn.neural_network import MLPClassifier\n",
    "from sklearn import  metrics\n",
    "\n",
    "train=pd.read_csv(\"small_train.csv\")\n",
    "\n",
    "# normalize the train data\n",
    "label_train=train['label']\n",
    "train=train.drop('label', axis=1)\n",
    "train = train / 255\n",
    "train['label'] = label_train\n",
    "\n",
    "## PCA decomposition\n",
    "pca = decomposition.PCA(n_components=20)\n",
    "pca.fit(train.drop('label', axis=1))\n",
    "PCtrain = pd.DataFrame(pca.transform(train.drop('label', axis=1)))\n",
    "PCtrain['label'] = train['label']\n",
    "\n",
    "end=1900\n",
    "y = PCtrain['label'][0:end]\n",
    "X=PCtrain.drop('label', axis=1)[0:end]\n",
    "clf = MLPClassifier(solver='lbfgs', alpha=1e-5, hidden_layer_sizes=(50,), random_state=1)\n",
    "clf.fit(X, y)\n",
    "\n",
    "#accuracy and confusion matrix\n",
    "predicted = clf.predict(PCtrain.drop('label', axis=1)[end+1:2000])\n",
    "expected = PCtrain['label'][end+1:2000]\n",
    "print predicted\n",
    "# print expected\n",
    "\n",
    "# print(\"Classification report for classifier %s:\\n%s\\n\"\n",
    "#       % (clf, metrics.classification_report(expected, predicted)))\n",
    "# print(\"Confusion matrix:\\n%s\" % metrics.confusion_matrix(expected, predicted))\n",
    "# print metrics.accuracy_score(expected, predicted)\n"
   ]
  },
  {
   "cell_type": "code",
   "execution_count": 2,
   "metadata": {
    "collapsed": false
   },
   "outputs": [
    {
     "name": "stdout",
     "output_type": "stream",
     "text": [
      "0.959183673469\n"
     ]
    }
   ],
   "source": [
    "from sklearn.neighbors import KNeighborsClassifier\n",
    "neigh = KNeighborsClassifier(n_neighbors=3)\n",
    "neigh.fit(X, y) \n",
    "predicted = neigh.predict(PCtrain.drop('label', axis=1)[end+1:2000])\n",
    "print metrics.accuracy_score(expected, predicted)"
   ]
  }
 ],
 "metadata": {
  "kernelspec": {
   "display_name": "Python 2",
   "language": "python",
   "name": "python2"
  },
  "language_info": {
   "codemirror_mode": {
    "name": "ipython",
    "version": 2
   },
   "file_extension": ".py",
   "mimetype": "text/x-python",
   "name": "python",
   "nbconvert_exporter": "python",
   "pygments_lexer": "ipython2",
   "version": "2.7.12"
  }
 },
 "nbformat": 4,
 "nbformat_minor": 1
}
