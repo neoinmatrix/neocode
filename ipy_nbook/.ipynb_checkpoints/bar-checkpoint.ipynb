{
 "cells": [
  {
   "cell_type": "code",
   "execution_count": 37,
   "metadata": {
    "collapsed": false,
    "deletable": true,
    "editable": true
   },
   "outputs": [
    {
     "data": {
      "image/png": "[encoded data removed]",
      "text/plain": [
       "<matplotlib.figure.Figure at 0xc53dcc0>"
      ]
     },
     "metadata": {},
     "output_type": "display_data"
    }
   ],
   "source": [
    "import numpy as np\n",
    "import matplotlib.pyplot as plt \n",
    "index=np.arange(10)\n",
    "values=[i for i in range(10,20)]\n",
    "std=[float(i+1)/10 for i in range(10)]\n",
    "\n",
    "plt.bar(index,values,alpha=0.7,color='green',label='first',yerr=std,width=0.3)\n",
    "plt.bar(index+0.3,values,alpha=0.7,color='red',label='first',yerr=std,width=0.3)\n",
    "plt.bar(index+0.3*2,values,alpha=0.7,color='blue',label='first',yerr=std,width=0.3)\n",
    "plt.axis([0,10,0,20])\n",
    "plt.xticks([i+0.4 for i in range(10)],['A','B','C','D','E','F','G','H','I','J'])\n",
    "plt.show()"
   ]
  }
 ],
 "metadata": {
  "kernelspec": {
   "display_name": "Python 2",
   "language": "python",
   "name": "python2"
  },
  "language_info": {
   "codemirror_mode": {
    "name": "ipython",
    "version": 2
   },
   "file_extension": ".py",
   "mimetype": "text/x-python",
   "name": "python",
   "nbconvert_exporter": "python",
   "pygments_lexer": "ipython2",
   "version": "2.7.12"
  }
 },
 "nbformat": 4,
 "nbformat_minor": 1
}
