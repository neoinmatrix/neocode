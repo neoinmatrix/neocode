{
 "cells": [
  {
   "cell_type": "markdown",
   "metadata": {
    "deletable": true,
    "editable": true
   },
   "source": [
    "# this is my dr trying"
   ]
  },
  {
   "cell_type": "code",
   "execution_count": 24,
   "metadata": {
    "collapsed": false,
    "deletable": true,
    "editable": true
   },
   "outputs": [
    {
     "name": "stdout",
     "output_type": "stream",
     "text": [
      "0 \n",
      "1       0\n",
      "2       1\n",
      "3       4\n",
      "4       0\n",
      "5       0\n",
      "6       7\n",
      "7       3\n",
      "8       5\n",
      "9       3\n",
      "10      8\n",
      "11      9\n",
      "12      1\n",
      "13      3\n",
      "14      3\n",
      "15      1\n",
      "16      2\n",
      "17      0\n",
      "18      7\n",
      "19      5\n",
      "20      8\n",
      "21      6\n",
      "22      2\n",
      "23      0\n",
      "24      2\n",
      "25      3\n",
      "26      6\n",
      "27      9\n",
      "28      9\n",
      "29      7\n",
      "30      8\n",
      "       ..\n",
      "1969    6\n",
      "1970    7\n",
      "1971    4\n",
      "1972    1\n",
      "1973    3\n",
      "1974    6\n",
      "1975    7\n",
      "1976    1\n",
      "1977    1\n",
      "1978    8\n",
      "1979    1\n",
      "1980    1\n",
      "1981    6\n",
      "1982    5\n",
      "1983    5\n",
      "1984    8\n",
      "1985    5\n",
      "1986    4\n",
      "1987    7\n",
      "1988    0\n",
      "1989    2\n",
      "1990    4\n",
      "1991    0\n",
      "1992    1\n",
      "1993    2\n",
      "1994    1\n",
      "1995    7\n",
      "1996    5\n",
      "1997    5\n",
      "1998    5\n",
      "Name: label, dtype: int64\n"
     ]
    }
   ],
   "source": [
    "import pandas as pd\n",
    "import numpy as np\n",
    "import matplotlib.pyplot as plt\n",
    "train=pd.read_csv(\"./small_train.csv\")\n",
    "# print train.info()\n",
    "# print train.iloc[1,0],\"\\n\",train.iloc[1:,0]\n",
    "print train."
   ]
  },
  {
   "cell_type": "code",
   "execution_count": 39,
   "metadata": {
    "collapsed": false,
    "deletable": true,
    "editable": true
   },
   "outputs": [
    {
     "name": "stdout",
     "output_type": "stream",
     "text": [
      "999\n",
      "784\n"
     ]
    }
   ],
   "source": [
    "# plt.imshow()\n",
    "# print train.iloc[1:,0].values.reshape(19,19)\n",
    "# print np.sqrt(1999)\n",
    "print 1998/2\n",
    "print 28**2"
   ]
  }
 ],
 "metadata": {
  "kernelspec": {
   "display_name": "Python 2",
   "language": "python",
   "name": "python2"
  },
  "language_info": {
   "codemirror_mode": {
    "name": "ipython",
    "version": 2
   },
   "file_extension": ".py",
   "mimetype": "text/x-python",
   "name": "python",
   "nbconvert_exporter": "python",
   "pygments_lexer": "ipython2",
   "version": "2.7.12"
  }
 },
 "nbformat": 4,
 "nbformat_minor": 1
}
