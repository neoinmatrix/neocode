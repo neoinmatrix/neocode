{
 "cells": [
  {
   "cell_type": "markdown",
   "metadata": {},
   "source": [
    "# this is my dr trying"
   ]
  },
  {
   "cell_type": "code",
   "execution_count": 3,
   "metadata": {},
   "outputs": [],
   "source": [
    "import pandas as pd\n",
    "import numpy as np\n",
    "import matplotlib.pyplot as plt\n",
    "train=pd.read_csv(\"./small_train.csv\")\n",
    "# print train.info()\n",
    "# print train.iloc[1,0],\"\\n\",train.iloc[1:,0]\n",
    "# print train."
   ]
  },
  {
   "cell_type": "code",
   "execution_count": 14,
   "metadata": {},
   "outputs": [
    {
     "data": {
      "image/png": "[encoded data removed]",
      "text/plain": [
       "<matplotlib.figure.Figure at 0x7f8246be3ad0>"
      ]
     },
     "metadata": {},
     "output_type": "display_data"
    }
   ],
   "source": [
    "# for i in range(10):\n",
    "#     print i\n",
    "#     img=train.iloc[i,1:].values.reshape(28,28)\n",
    "#     plt.imshow(img)\n",
    "img=train.iloc[3,1:].values.reshape(28,28)\n",
    "plt.imshow(img)\n",
    "plt.show()\n",
    "# print train.iloc[1:,0].values.reshape(19,19)\n",
    "# print np.sqrt(1999)\n",
    "# print 1998/2\n",
    "# print 28**2"
   ]
  }
 ],
 "metadata": {
  "kernelspec": {
   "display_name": "Python 2",
   "language": "python",
   "name": "python2"
  },
  "language_info": {
   "codemirror_mode": {
    "name": "ipython",
    "version": 2
   },
   "file_extension": ".py",
   "mimetype": "text/x-python",
   "name": "python",
   "nbconvert_exporter": "python",
   "pygments_lexer": "ipython2",
   "version": "2.7.12"
  }
 },
 "nbformat": 4,
 "nbformat_minor": 1
}
