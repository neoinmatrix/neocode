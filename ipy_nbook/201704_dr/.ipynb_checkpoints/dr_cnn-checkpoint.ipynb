{
 "cells": [
  {
   "cell_type": "code",
   "execution_count": 1,
   "metadata": {},
   "outputs": [
    {
     "name": "stdout",
     "output_type": "stream",
     "text": [
      "   pixel0  pixel1  pixel2  pixel3  pixel4  pixel5  pixel6  pixel7  pixel8  \\\n",
      "0     0.0     0.0     0.0     0.0     0.0     0.0     0.0     0.0     0.0   \n",
      "1     0.0     0.0     0.0     0.0     0.0     0.0     0.0     0.0     0.0   \n",
      "2     0.0     0.0     0.0     0.0     0.0     0.0     0.0     0.0     0.0   \n",
      "3     0.0     0.0     0.0     0.0     0.0     0.0     0.0     0.0     0.0   \n",
      "4     0.0     0.0     0.0     0.0     0.0     0.0     0.0     0.0     0.0   \n",
      "\n",
      "   pixel9  ...    pixel775  pixel776  pixel777  pixel778  pixel779  pixel780  \\\n",
      "0     0.0  ...         0.0       0.0       0.0       0.0       0.0       0.0   \n",
      "1     0.0  ...         0.0       0.0       0.0       0.0       0.0       0.0   \n",
      "2     0.0  ...         0.0       0.0       0.0       0.0       0.0       0.0   \n",
      "3     0.0  ...         0.0       0.0       0.0       0.0       0.0       0.0   \n",
      "4     0.0  ...         0.0       0.0       0.0       0.0       0.0       0.0   \n",
      "\n",
      "   pixel781  pixel782  pixel783  label  \n",
      "0       0.0       0.0       0.0      1  \n",
      "1       0.0       0.0       0.0      0  \n",
      "2       0.0       0.0       0.0      1  \n",
      "3       0.0       0.0       0.0      4  \n",
      "4       0.0       0.0       0.0      0  \n",
      "\n",
      "[5 rows x 785 columns]\n"
     ]
    }
   ],
   "source": [
    "# coding: utf-8\n",
    "import pandas as pd\n",
    "import numpy as np\n",
    "# from sklearn import decomposition\n",
    "# from sklearn.neural_network import MLPClassifier\n",
    "from sklearn import  metrics\n",
    "\n",
    "train=pd.read_csv(\"small_train.csv\")\n",
    "\n",
    "# normalize the train data\n",
    "label_train=train['label']\n",
    "train=train.drop('label', axis=1)\n",
    "train = train / 255\n",
    "train['label'] = label_train\n",
    "\n",
    "print train.head()\n",
    "# print(\"Classification report for classifier %s:\\n%s\\n\"\n",
    "#       % (clf, metrics.classification_report(expected, predicted)))\n",
    "# print(\"Confusion matrix:\\n%s\" % metrics.confusion_matrix(expected, predicted))\n",
    "# print metrics.accuracy_score(expected, predicted)\n"
   ]
  }
 ],
 "metadata": {
  "kernelspec": {
   "display_name": "Python 2",
   "language": "python",
   "name": "python2"
  },
  "language_info": {
   "codemirror_mode": {
    "name": "ipython",
    "version": 2
   },
   "file_extension": ".py",
   "mimetype": "text/x-python",
   "name": "python",
   "nbconvert_exporter": "python",
   "pygments_lexer": "ipython2",
   "version": "2.7.12"
  }
 },
 "nbformat": 4,
 "nbformat_minor": 2
}
