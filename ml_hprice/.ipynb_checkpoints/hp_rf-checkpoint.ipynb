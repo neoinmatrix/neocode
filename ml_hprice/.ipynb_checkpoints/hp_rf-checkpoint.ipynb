{
 "cells": [
  {
   "cell_type": "code",
   "execution_count": 64,
   "metadata": {},
   "outputs": [
    {
     "name": "stdout",
     "output_type": "stream",
     "text": [
      "0.282909766571\n",
      "0.414025347042\n"
     ]
    }
   ],
   "source": [
    "# coding=utf-8\n",
    "\n",
    "import pandas as pd\n",
    "import numpy as np\n",
    "from sklearn.ensemble import RandomForestRegressor\n",
    "from sklearn.metrics import mean_squared_error\n",
    "\n",
    "train=pd.read_csv(\"./input/train.csv\")\n",
    "train=train.fillna(0)\n",
    "params=[]\n",
    "for i in train.columns[train.columns!=\"SalePrice\"]:\n",
    "    if type(train[i][0])==np.int64 or  type(train[i][0])==np.float64:\n",
    "        tmp=train[\"SalePrice\"].corr(train[i])\n",
    "        if np.fabs(tmp)>0.26:\n",
    "            params.append(i)\n",
    "tt_index=1000\n",
    "x_train=train.ix[0:tt_index][params].values\n",
    "y_train=train.ix[0:tt_index]['SalePrice'].values\n",
    "x_test=train.ix[tt_index:1460][params].values\n",
    "y_test=train.ix[tt_index:1460]['SalePrice'].values\n",
    "\n",
    "rf=RandomForestRegressor(max_depth=20, random_state=2)\n",
    "rf.fit(x_train, y_train)\n",
    "predicted= rf.predict(x_test)\n",
    "expected=y_test\n",
    "sumx=0.0\n",
    "for i in range(0,len(expected)):\n",
    "    sumx+=((expected[i]-predicted[i])/100000)**2\n",
    "print np.sqrt(sumx/len(expected))\n",
    "#     print expected[i],predicted[i]\n",
    "print mean_squared_error(expected/100000,predicted/100000)\n"
   ]
  }
 ],
 "metadata": {
  "kernelspec": {
   "display_name": "Python 2",
   "language": "python",
   "name": "python2"
  },
  "language_info": {
   "codemirror_mode": {
    "name": "ipython",
    "version": 2
   },
   "file_extension": ".py",
   "mimetype": "text/x-python",
   "name": "python",
   "nbconvert_exporter": "python",
   "pygments_lexer": "ipython2",
   "version": "2.7.12"
  }
 },
 "nbformat": 4,
 "nbformat_minor": 2
}
