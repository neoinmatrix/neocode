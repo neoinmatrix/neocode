{
 "cells": [
  {
   "cell_type": "code",
   "execution_count": 5,
   "metadata": {
    "collapsed": false,
    "deletable": true,
    "editable": true
   },
   "outputs": [
    {
     "name": "stdout",
     "output_type": "stream",
     "text": [
      "ok\n"
     ]
    }
   ],
   "source": [
    "# coding=utf-8\n",
    "import numpy as np \n",
    "import pandas as pd\n",
    "from sklearn.model_selection import KFold\n",
    "from sklearn import  metrics\n",
    "from sklearn import tree\n",
    "from sklearn.neural_network import MLPClassifier\n",
    "from sklearn.ensemble import RandomForestClassifier\n",
    "from sklearn.ensemble import AdaBoostClassifier\n",
    "\n",
    "train=pd.read_csv(\"./pima.csv\",header=None)\n",
    "train_normal=(train-train.mean())/(train.max()-train.min())\n",
    "train_normal[8]=train[8]\n",
    "\n",
    "kf = KFold(n_splits=10, shuffle=True,random_state=np.random.randint(11))\n",
    "\n",
    "def calc(clf):\n",
    "    accuracy=0.0\n",
    "    confusion=np.zeros([2,2])\n",
    "    for train_index, test_index in kf.split(train_normal.index):\n",
    "        X=train_normal.ix[train_index].drop(8,axis=1).values\n",
    "        y=train_normal.ix[train_index][8].values\n",
    "        clf.fit(X,y)\n",
    "        X_test=train_normal.ix[test_index].drop(8,axis=1).values\n",
    "        predicted = clf.predict(X_test)\n",
    "        expected = train_normal.ix[test_index][8].values\n",
    "        conf_tmp=metrics.confusion_matrix(expected, predicted)\n",
    "        confusion+=conf_tmp\n",
    "        accy_tmp=metrics.accuracy_score(expected, predicted)\n",
    "        accuracy+=accy_tmp\n",
    "    #     print conf_tmp\n",
    "#         print accy_tmp\n",
    "    print confusion\n",
    "    print accuracy/10.0\n",
    "print \"ok\""
   ]
  },
  {
   "cell_type": "code",
   "execution_count": 17,
   "metadata": {
    "collapsed": false
   },
   "outputs": [
    {
     "name": "stdout",
     "output_type": "stream",
     "text": [
      "[[ 415.   85.]\n",
      " [ 110.  158.]]\n",
      "0.746172248804\n"
     ]
    }
   ],
   "source": [
    "# clf = tree.DecisionTreeClassifier()\n",
    "# calc(clf)\n",
    "bdt = AdaBoostClassifier(tree.DecisionTreeClassifier(max_depth=6), algorithm=\"SAMME\", n_estimators=100)\n",
    "calc(bdt)"
   ]
  },
  {
   "cell_type": "code",
   "execution_count": 20,
   "metadata": {
    "collapsed": false,
    "deletable": true,
    "editable": true
   },
   "outputs": [
    {
     "name": "stdout",
     "output_type": "stream",
     "text": [
      "[[ 444.   56.]\n",
      " [ 116.  152.]]\n",
      "0.776076555024\n"
     ]
    }
   ],
   "source": [
    "# multi layers neural network classifier\n",
    "clf = MLPClassifier(alpha=1e-2, hidden_layer_sizes=(50), random_state=1)\n",
    "calc(clf)"
   ]
  },
  {
   "cell_type": "code",
   "execution_count": 15,
   "metadata": {
    "collapsed": false,
    "deletable": true,
    "editable": true
   },
   "outputs": [
    {
     "name": "stdout",
     "output_type": "stream",
     "text": [
      "[[ 402.   98.]\n",
      " [ 120.  148.]]\n",
      "0.716182501709\n"
     ]
    }
   ],
   "source": [
    "# decision tree classifier\n",
    "clf = tree.DecisionTreeClassifier(max_depth=6)\n",
    "calc(clf)"
   ]
  },
  {
   "cell_type": "code",
   "execution_count": 7,
   "metadata": {
    "collapsed": false,
    "deletable": true,
    "editable": true
   },
   "outputs": [
    {
     "name": "stdout",
     "output_type": "stream",
     "text": [
      "[[ 437.   63.]\n",
      " [ 120.  148.]]\n",
      "0.761722488038\n"
     ]
    }
   ],
   "source": [
    "# random forrest classifier\n",
    "clf = RandomForestClassifier(max_depth=7, n_estimators=20)\n",
    "calc(clf)"
   ]
  },
  {
   "cell_type": "code",
   "execution_count": 5,
   "metadata": {
    "collapsed": false,
    "deletable": true,
    "editable": true
   },
   "outputs": [
    {
     "name": "stdout",
     "output_type": "stream",
     "text": [
      "[[ 330.  170.]\n",
      " [ 162.  106.]]\n",
      "0.567754613807\n"
     ]
    }
   ],
   "source": [
    "# k- nearly neigbor\n",
    "from sklearn.neighbors import NearestNeighbors\n",
    "clf = NearestNeighbors(n_neighbors=1)\n",
    "accuracy=0.0\n",
    "confusion=np.zeros([2,2])\n",
    "drop_arr=[8,2,3,4]\n",
    "\n",
    "for train_index, test_index in kf.split(train_normal.index):\n",
    "    X=train_normal.ix[train_index].drop(drop_arr,axis=1).values\n",
    "    y=train_normal.ix[train_index][8].values\n",
    "    clf.fit(X,y)\n",
    "    X_test=train_normal.ix[test_index].drop(drop_arr,axis=1).values\n",
    "    \n",
    "    predicted = clf.kneighbors(X_test)\n",
    "    index=np.array(predicted[1]).reshape(1,len(predicted[1]))[0]\n",
    "    predicted=train_normal.ix[index][8].values\n",
    "    \n",
    "    expected = train_normal.ix[test_index][8].values\n",
    "    conf_tmp=metrics.confusion_matrix(expected, predicted)\n",
    "    confusion+=conf_tmp\n",
    "    accy_tmp=metrics.accuracy_score(expected, predicted)\n",
    "    accuracy+=accy_tmp\n",
    "#     print conf_tmp\n",
    "#     print accy_tmp\n",
    "print confusion\n",
    "print accuracy/10.0\n"
   ]
  }
 ],
 "metadata": {
  "kernelspec": {
   "display_name": "Python 2",
   "language": "python",
   "name": "python2"
  },
  "language_info": {
   "codemirror_mode": {
    "name": "ipython",
    "version": 2
   },
   "file_extension": ".py",
   "mimetype": "text/x-python",
   "name": "python",
   "nbconvert_exporter": "python",
   "pygments_lexer": "ipython2",
   "version": "2.7.12"
  }
 },
 "nbformat": 4,
 "nbformat_minor": 2
}
