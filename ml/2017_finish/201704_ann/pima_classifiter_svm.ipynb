{
 "cells": [
  {
   "cell_type": "markdown",
   "metadata": {
    "deletable": true,
    "editable": true
   },
   "source": [
    "# sklearn.svc\n",
    "sklearn.svm.SVC(C=1.0, kernel='rbf', degree=3, gamma='auto', coef0=0.0, shrinking=True, probability=False,tol=0.001, cache_size=200, class_weight=None, verbose=False, max_iter=-1,decision_function_shape=None,random_state=None)\n",
    "\n",
    "## 参数解释：\n",
    "\n",
    "### C：C-SVC的惩罚参数C?默认值是1.0\n",
    "\n",
    "C越大，相当于惩罚松弛变量，希望松弛变量接近0，即对误分类的惩罚增大，趋向于对训练集全分对的情况，这样对训练集测试时准确率很高，但泛化能力弱。C值小，对误分类的惩罚减小，允许容错，将他们当成噪声点，泛化能力较强。\n",
    "\n",
    "### kernel ：核函数，默认是rbf，可以是‘linear’, ‘poly’, ‘rbf’, ‘sigmoid’, ‘precomputed’ \n",
    "\n",
    "* 0 – 线性：u'v\n",
    "* 1 – 多项式：(gamma\\*u'*v + coef0)^degree\n",
    "* 2 – RBF函数：exp(-gamma\\*|u-v|^2)   ***径向基函数 (Radial Basis Function 简称 RBF)***\n",
    "* 3 –sigmoid：tanh(gamma\\*u'*v + coef0)\n",
    "\n",
    "### degree ：多项式poly函数的维度，默认是3，选择其他核函数时会被忽略。\n",
    "\n",
    "### gamma ： ‘rbf’,‘poly’ 和‘sigmoid’的核函数参数。默认是’auto’，则会选择1/n_features\n",
    "\n",
    "### coef0 ：核函数的常数项。对于‘poly’和 ‘sigmoid’有用。\n",
    "\n",
    "### probability ：是否采用概率估计？.默认为False\n",
    "\n",
    "### shrinking ：是否采用shrinking heuristic方法，默认为true\n",
    "\n",
    "### tol ：停止训练的误差值大小，默认为1e-3\n",
    "\n",
    "### cache_size ：核函数cache缓存大小，默认为200\n",
    "\n",
    "### class_weight ：类别的权重，字典形式传递。设置第几类的参数C为weight*C(C-SVC中的C)\n",
    "\n",
    "### verbose ：允许冗余输出？\n",
    "\n",
    "### max_iter ：最大迭代次数。-1为无限制。\n",
    "\n",
    "### decision_function_shape ：‘ovo’, ‘ovr’ or None, default=None3\n",
    "\n",
    "### random_state ：数据洗牌时的种子值，int值\n",
    "\n",
    "# 主要调节的参数有：C、kernel、degree、gamma、coef0。"
   ]
  },
  {
   "cell_type": "code",
   "execution_count": 64,
   "metadata": {
    "collapsed": true,
    "deletable": true,
    "editable": true
   },
   "outputs": [],
   "source": [
    "# coding=utf-8\n",
    "import numpy as np \n",
    "import pandas as pd\n",
    "from sklearn.model_selection import KFold\n",
    "from sklearn import  metrics\n",
    "from sklearn.svm import SVC\n",
    "from utils import *\n",
    "\n",
    "train=pd.read_csv(\"./pima.csv\",header=None)\n",
    "train_normal=(train-train.mean())/(train.max()-train.min())\n",
    "train_normal[8]=train[8]\n",
    "\n",
    "kf = KFold(n_splits=10, shuffle=True,random_state=np.random.randint(11))\n",
    "\n",
    "def calc(clf):\n",
    "    accuracy=0.0\n",
    "    confusion=np.zeros([2,2])\n",
    "    for train_index, test_index in kf.split(train_normal.index):\n",
    "        X=train_normal.ix[train_index].drop(8,axis=1).values\n",
    "        y=train_normal.ix[train_index][8].values\n",
    "        clf.fit(X,y)\n",
    "        X_test=train_normal.ix[test_index].drop(8,axis=1).values\n",
    "        predicted = clf.predict(X_test)\n",
    "        expected = train_normal.ix[test_index][8].values\n",
    "        conf_tmp=metrics.confusion_matrix(expected, predicted)\n",
    "        confusion+=conf_tmp\n",
    "        accy_tmp=metrics.accuracy_score(expected, predicted)\n",
    "        accuracy+=accy_tmp\n",
    "    #     print conf_tmp\n",
    "#         print accy_tmp\n",
    "    print confusion\n",
    "    print accuracy/10.0"
   ]
  },
  {
   "cell_type": "code",
   "execution_count": 33,
   "metadata": {
    "collapsed": false,
    "deletable": true,
    "editable": true
   },
   "outputs": [
    {
     "name": "stdout",
     "output_type": "stream",
     "text": [
      "[[ 448.   52.]\n",
      " [ 123.  145.]]\n",
      "0.772146274778\n"
     ]
    }
   ],
   "source": [
    "# rbf kernel \n",
    "clf = SVC(C=1.6,gamma=0.6)\n",
    "calc(clf)"
   ]
  },
  {
   "cell_type": "code",
   "execution_count": 13,
   "metadata": {
    "collapsed": false,
    "deletable": true,
    "editable": true
   },
   "outputs": [
    {
     "name": "stdout",
     "output_type": "stream",
     "text": [
      "[[ 449.   51.]\n",
      " [ 124.  144.]]\n",
      "0.772163362953\n"
     ]
    }
   ],
   "source": [
    "# linear kernel\n",
    "clf = SVC(C=1.5, kernel='linear' )\n",
    "calc(clf)"
   ]
  },
  {
   "cell_type": "code",
   "execution_count": 26,
   "metadata": {
    "collapsed": false,
    "deletable": true,
    "editable": true
   },
   "outputs": [
    {
     "name": "stdout",
     "output_type": "stream",
     "text": [
      "[[ 444.   56.]\n",
      " [ 119.  149.]]\n",
      "0.772112098428\n"
     ]
    }
   ],
   "source": [
    "# polynormial kernel\n",
    "clf = SVC(C=1, kernel='poly',degree=3,gamma=0.9 ,coef0=2)\n",
    "calc(clf)"
   ]
  },
  {
   "cell_type": "code",
   "execution_count": 71,
   "metadata": {
    "collapsed": false,
    "deletable": true,
    "editable": true
   },
   "outputs": [
    {
     "name": "stdout",
     "output_type": "stream",
     "text": [
      "[[ 455.   45.]\n",
      " [ 130.  138.]]\n",
      "0.772095010253\n"
     ]
    }
   ],
   "source": [
    "# sigmoid kernel\n",
    "    clf = SVC(C=1, kernel='sigmoid',gamma=0.5,coef0=0)\n",
    "    calc(clf)"
   ]
  }
 ],
 "metadata": {
  "kernelspec": {
   "display_name": "Python 2",
   "language": "python",
   "name": "python2"
  },
  "language_info": {
   "codemirror_mode": {
    "name": "ipython",
    "version": 2
   },
   "file_extension": ".py",
   "mimetype": "text/x-python",
   "name": "python",
   "nbconvert_exporter": "python",
   "pygments_lexer": "ipython2",
   "version": "2.7.12"
  }
 },
 "nbformat": 4,
 "nbformat_minor": 2
}
