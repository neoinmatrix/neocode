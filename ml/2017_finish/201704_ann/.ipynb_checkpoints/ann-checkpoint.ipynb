{
 "cells": [
  {
   "cell_type": "code",
   "execution_count": 25,
   "metadata": {},
   "outputs": [
    {
     "name": "stdout",
     "output_type": "stream",
     "text": [
      "[[43  3]\n",
      " [ 9 22]]\n",
      "0.844155844156\n",
      "[[45  6]\n",
      " [13 13]]\n",
      "0.753246753247\n",
      "[[37 13]\n",
      " [11 16]]\n",
      "0.688311688312\n",
      "[[48  6]\n",
      " [ 8 15]]\n",
      "0.818181818182\n",
      "[[46  4]\n",
      " [10 17]]\n",
      "0.818181818182\n",
      "[[46  6]\n",
      " [11 14]]\n",
      "0.779220779221\n",
      "[[39  9]\n",
      " [17 12]]\n",
      "0.662337662338\n",
      "[[41  3]\n",
      " [12 21]]\n",
      "0.805194805195\n",
      "[[54  6]\n",
      " [ 8  8]]\n",
      "0.815789473684\n",
      "[[40  5]\n",
      " [16 15]]\n",
      "0.723684210526\n",
      "[[ 439.   61.]\n",
      " [ 115.  153.]]\n",
      "0.770830485304\n"
     ]
    }
   ],
   "source": [
    "import numpy as np \n",
    "import pandas as pd\n",
    "from sklearn.model_selection import KFold\n",
    "from sklearn.neural_network import MLPClassifier\n",
    "from sklearn import  metrics\n",
    "\n",
    "train=pd.read_csv(\"./pima.csv\",header=None)\n",
    "train_normal=(train-train.mean())/(train.max()-train.min())\n",
    "train_normal[8]=train[8]\n",
    "\n",
    "kf = KFold(n_splits=10, shuffle=True,random_state=np.random.randint(11))\n",
    "clf = MLPClassifier(alpha=1e-5, hidden_layer_sizes=(50,), random_state=1)\n",
    "accuracy=0.0\n",
    "confusion=np.zeros([2,2])\n",
    "for train_index, test_index in kf.split(train_normal.index):\n",
    "    X=train_normal.ix[train_index].drop(8,axis=1).values\n",
    "    y=train_normal.ix[train_index][8].values\n",
    "    clf.fit(X,y)\n",
    "    X_test=train_normal.ix[test_index].drop(8,axis=1).values\n",
    "    predicted = clf.predict(X_test)\n",
    "    expected = train_normal.ix[test_index][8].values\n",
    "    conf_tmp=metrics.confusion_matrix(expected, predicted)\n",
    "    confusion+=conf_tmp\n",
    "    accy_tmp=metrics.accuracy_score(expected, predicted)\n",
    "    accuracy+=accy_tmp\n",
    "    print conf_tmp\n",
    "    print accy_tmp\n",
    "    \n",
    "print confusion\n",
    "print accuracy/10.0\n"
   ]
  }
 ],
 "metadata": {
  "kernelspec": {
   "display_name": "Python 2",
   "language": "python",
   "name": "python2"
  },
  "language_info": {
   "codemirror_mode": {
    "name": "ipython",
    "version": 2
   },
   "file_extension": ".py",
   "mimetype": "text/x-python",
   "name": "python",
   "nbconvert_exporter": "python",
   "pygments_lexer": "ipython2",
   "version": "2.7.12"
  }
 },
 "nbformat": 4,
 "nbformat_minor": 2
}
